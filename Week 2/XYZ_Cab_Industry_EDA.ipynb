{
  "nbformat": 4,
  "nbformat_minor": 0,
  "metadata": {
    "colab": {
      "provenance": []
    },
    "kernelspec": {
      "name": "python3",
      "display_name": "Python 3"
    },
    "language_info": {
      "name": "python"
    }
  },
  "cells": [
    {
      "cell_type": "markdown",
      "source": [
        "## Step 1: Uploading the Datasets\n",
        "In this step, the CSV files are uploaded that contain transaction data, customer data, and city data. These files will be used for the data analysis.\n"
      ],
      "metadata": {
        "id": "SYQX6AtCBeAQ"
      }
    },
    {
      "cell_type": "code",
      "execution_count": 1,
      "metadata": {
        "colab": {
          "base_uri": "https://localhost:8080/",
          "height": 180
        },
        "id": "ZweV-rkE6iXQ",
        "outputId": "9c1bce32-a484-4414-d369-d019d9462334"
      },
      "outputs": [
        {
          "output_type": "display_data",
          "data": {
            "text/plain": [
              "<IPython.core.display.HTML object>"
            ],
            "text/html": [
              "\n",
              "     <input type=\"file\" id=\"files-33776ee3-24c7-44f9-9923-d296ecb2cf14\" name=\"files[]\" multiple disabled\n",
              "        style=\"border:none\" />\n",
              "     <output id=\"result-33776ee3-24c7-44f9-9923-d296ecb2cf14\">\n",
              "      Upload widget is only available when the cell has been executed in the\n",
              "      current browser session. Please rerun this cell to enable.\n",
              "      </output>\n",
              "      <script>// Copyright 2017 Google LLC\n",
              "//\n",
              "// Licensed under the Apache License, Version 2.0 (the \"License\");\n",
              "// you may not use this file except in compliance with the License.\n",
              "// You may obtain a copy of the License at\n",
              "//\n",
              "//      http://www.apache.org/licenses/LICENSE-2.0\n",
              "//\n",
              "// Unless required by applicable law or agreed to in writing, software\n",
              "// distributed under the License is distributed on an \"AS IS\" BASIS,\n",
              "// WITHOUT WARRANTIES OR CONDITIONS OF ANY KIND, either express or implied.\n",
              "// See the License for the specific language governing permissions and\n",
              "// limitations under the License.\n",
              "\n",
              "/**\n",
              " * @fileoverview Helpers for google.colab Python module.\n",
              " */\n",
              "(function(scope) {\n",
              "function span(text, styleAttributes = {}) {\n",
              "  const element = document.createElement('span');\n",
              "  element.textContent = text;\n",
              "  for (const key of Object.keys(styleAttributes)) {\n",
              "    element.style[key] = styleAttributes[key];\n",
              "  }\n",
              "  return element;\n",
              "}\n",
              "\n",
              "// Max number of bytes which will be uploaded at a time.\n",
              "const MAX_PAYLOAD_SIZE = 100 * 1024;\n",
              "\n",
              "function _uploadFiles(inputId, outputId) {\n",
              "  const steps = uploadFilesStep(inputId, outputId);\n",
              "  const outputElement = document.getElementById(outputId);\n",
              "  // Cache steps on the outputElement to make it available for the next call\n",
              "  // to uploadFilesContinue from Python.\n",
              "  outputElement.steps = steps;\n",
              "\n",
              "  return _uploadFilesContinue(outputId);\n",
              "}\n",
              "\n",
              "// This is roughly an async generator (not supported in the browser yet),\n",
              "// where there are multiple asynchronous steps and the Python side is going\n",
              "// to poll for completion of each step.\n",
              "// This uses a Promise to block the python side on completion of each step,\n",
              "// then passes the result of the previous step as the input to the next step.\n",
              "function _uploadFilesContinue(outputId) {\n",
              "  const outputElement = document.getElementById(outputId);\n",
              "  const steps = outputElement.steps;\n",
              "\n",
              "  const next = steps.next(outputElement.lastPromiseValue);\n",
              "  return Promise.resolve(next.value.promise).then((value) => {\n",
              "    // Cache the last promise value to make it available to the next\n",
              "    // step of the generator.\n",
              "    outputElement.lastPromiseValue = value;\n",
              "    return next.value.response;\n",
              "  });\n",
              "}\n",
              "\n",
              "/**\n",
              " * Generator function which is called between each async step of the upload\n",
              " * process.\n",
              " * @param {string} inputId Element ID of the input file picker element.\n",
              " * @param {string} outputId Element ID of the output display.\n",
              " * @return {!Iterable<!Object>} Iterable of next steps.\n",
              " */\n",
              "function* uploadFilesStep(inputId, outputId) {\n",
              "  const inputElement = document.getElementById(inputId);\n",
              "  inputElement.disabled = false;\n",
              "\n",
              "  const outputElement = document.getElementById(outputId);\n",
              "  outputElement.innerHTML = '';\n",
              "\n",
              "  const pickedPromise = new Promise((resolve) => {\n",
              "    inputElement.addEventListener('change', (e) => {\n",
              "      resolve(e.target.files);\n",
              "    });\n",
              "  });\n",
              "\n",
              "  const cancel = document.createElement('button');\n",
              "  inputElement.parentElement.appendChild(cancel);\n",
              "  cancel.textContent = 'Cancel upload';\n",
              "  const cancelPromise = new Promise((resolve) => {\n",
              "    cancel.onclick = () => {\n",
              "      resolve(null);\n",
              "    };\n",
              "  });\n",
              "\n",
              "  // Wait for the user to pick the files.\n",
              "  const files = yield {\n",
              "    promise: Promise.race([pickedPromise, cancelPromise]),\n",
              "    response: {\n",
              "      action: 'starting',\n",
              "    }\n",
              "  };\n",
              "\n",
              "  cancel.remove();\n",
              "\n",
              "  // Disable the input element since further picks are not allowed.\n",
              "  inputElement.disabled = true;\n",
              "\n",
              "  if (!files) {\n",
              "    return {\n",
              "      response: {\n",
              "        action: 'complete',\n",
              "      }\n",
              "    };\n",
              "  }\n",
              "\n",
              "  for (const file of files) {\n",
              "    const li = document.createElement('li');\n",
              "    li.append(span(file.name, {fontWeight: 'bold'}));\n",
              "    li.append(span(\n",
              "        `(${file.type || 'n/a'}) - ${file.size} bytes, ` +\n",
              "        `last modified: ${\n",
              "            file.lastModifiedDate ? file.lastModifiedDate.toLocaleDateString() :\n",
              "                                    'n/a'} - `));\n",
              "    const percent = span('0% done');\n",
              "    li.appendChild(percent);\n",
              "\n",
              "    outputElement.appendChild(li);\n",
              "\n",
              "    const fileDataPromise = new Promise((resolve) => {\n",
              "      const reader = new FileReader();\n",
              "      reader.onload = (e) => {\n",
              "        resolve(e.target.result);\n",
              "      };\n",
              "      reader.readAsArrayBuffer(file);\n",
              "    });\n",
              "    // Wait for the data to be ready.\n",
              "    let fileData = yield {\n",
              "      promise: fileDataPromise,\n",
              "      response: {\n",
              "        action: 'continue',\n",
              "      }\n",
              "    };\n",
              "\n",
              "    // Use a chunked sending to avoid message size limits. See b/62115660.\n",
              "    let position = 0;\n",
              "    do {\n",
              "      const length = Math.min(fileData.byteLength - position, MAX_PAYLOAD_SIZE);\n",
              "      const chunk = new Uint8Array(fileData, position, length);\n",
              "      position += length;\n",
              "\n",
              "      const base64 = btoa(String.fromCharCode.apply(null, chunk));\n",
              "      yield {\n",
              "        response: {\n",
              "          action: 'append',\n",
              "          file: file.name,\n",
              "          data: base64,\n",
              "        },\n",
              "      };\n",
              "\n",
              "      let percentDone = fileData.byteLength === 0 ?\n",
              "          100 :\n",
              "          Math.round((position / fileData.byteLength) * 100);\n",
              "      percent.textContent = `${percentDone}% done`;\n",
              "\n",
              "    } while (position < fileData.byteLength);\n",
              "  }\n",
              "\n",
              "  // All done.\n",
              "  yield {\n",
              "    response: {\n",
              "      action: 'complete',\n",
              "    }\n",
              "  };\n",
              "}\n",
              "\n",
              "scope.google = scope.google || {};\n",
              "scope.google.colab = scope.google.colab || {};\n",
              "scope.google.colab._files = {\n",
              "  _uploadFiles,\n",
              "  _uploadFilesContinue,\n",
              "};\n",
              "})(self);\n",
              "</script> "
            ]
          },
          "metadata": {}
        },
        {
          "output_type": "stream",
          "name": "stdout",
          "text": [
            "Saving Transaction_ID.csv to Transaction_ID.csv\n",
            "Saving Customer_ID.csv to Customer_ID.csv\n",
            "Saving City.csv to City.csv\n",
            "Saving Cab_Data.csv to Cab_Data.csv\n"
          ]
        }
      ],
      "source": [
        "from google.colab import files\n",
        "uploaded = files.upload()\n"
      ]
    },
    {
      "cell_type": "markdown",
      "source": [
        "## Step 2: Loading the Datasets\n",
        "After uploading the files, we load the data into Pandas DataFrames to facilitate data manipulation and analysis. Below, we load the four datasets: `Cab_Data.csv`, `City.csv`, `Customer_ID.csv`, and `Transaction_ID.csv`, and display the first few rows of each to verify the data.\n"
      ],
      "metadata": {
        "id": "eR5qAY4mBnP7"
      }
    },
    {
      "cell_type": "code",
      "source": [
        "import pandas as pd\n",
        "\n",
        "# Load the uploaded files into Pandas DataFrames\n",
        "cab_data = pd.read_csv('Cab_Data.csv')\n",
        "city_data = pd.read_csv('City.csv')\n",
        "customer_data = pd.read_csv('Customer_ID.csv')\n",
        "transaction_data = pd.read_csv('Transaction_ID.csv')\n",
        "\n",
        "# Now you can preview the data\n",
        "print(cab_data.head())\n",
        "print(city_data.head())\n",
        "print(customer_data.head())\n",
        "print(transaction_data.head())\n"
      ],
      "metadata": {
        "colab": {
          "base_uri": "https://localhost:8080/"
        },
        "id": "uyDt7Dsx8QBd",
        "outputId": "2388a1ca-5361-4b9f-8a92-05ef06c31764"
      },
      "execution_count": 5,
      "outputs": [
        {
          "output_type": "stream",
          "name": "stdout",
          "text": [
            "   Transaction ID  Date of Travel   Company        City  KM Travelled  \\\n",
            "0        10000011           42377  Pink Cab  ATLANTA GA         30.45   \n",
            "1        10000012           42375  Pink Cab  ATLANTA GA         28.62   \n",
            "2        10000013           42371  Pink Cab  ATLANTA GA          9.04   \n",
            "3        10000014           42376  Pink Cab  ATLANTA GA         33.17   \n",
            "4        10000015           42372  Pink Cab  ATLANTA GA          8.73   \n",
            "\n",
            "   Price Charged  Cost of Trip  \n",
            "0         370.95       313.635  \n",
            "1         358.52       334.854  \n",
            "2         125.20        97.632  \n",
            "3         377.40       351.602  \n",
            "4         114.62        97.776  \n",
            "             City   Population      Users\n",
            "0     NEW YORK NY   8,405,837    302,149 \n",
            "1      CHICAGO IL   1,955,130    164,468 \n",
            "2  LOS ANGELES CA   1,595,037    144,132 \n",
            "3        MIAMI FL   1,339,155     17,675 \n",
            "4  SILICON VALLEY   1,177,609     27,247 \n",
            "   Customer ID Gender  Age  Income (USD/Month)\n",
            "0        29290   Male   28               10813\n",
            "1        27703   Male   27                9237\n",
            "2        28712   Male   53               11242\n",
            "3        28020   Male   23               23327\n",
            "4        27182   Male   33                8536\n",
            "   Transaction ID  Customer ID Payment_Mode\n",
            "0        10000011        29290         Card\n",
            "1        10000012        27703         Card\n",
            "2        10000013        28712         Cash\n",
            "3        10000014        28020         Cash\n",
            "4        10000015        27182         Card\n"
          ]
        }
      ]
    },
    {
      "cell_type": "markdown",
      "source": [
        "## Step 3: Checking Data Structure and Missing Values\n",
        "In this step, each data set is checked for missing values, to identify any potential data cleaning steps that need to be performed.\n"
      ],
      "metadata": {
        "id": "uNmGe6mwByxc"
      }
    },
    {
      "cell_type": "code",
      "source": [
        "# Check structure and missing values\n",
        "print(cab_data.info())\n",
        "print(city_data.info())\n",
        "print(customer_data.info())\n",
        "print(transaction_data.info())\n",
        "\n",
        "# Check for missing values\n",
        "print(cab_data.isnull().sum())\n",
        "print(city_data.isnull().sum())\n",
        "print(customer_data.isnull().sum())\n",
        "print(transaction_data.isnull().sum())\n",
        "\n"
      ],
      "metadata": {
        "colab": {
          "base_uri": "https://localhost:8080/"
        },
        "id": "JtE3g_uw8s_E",
        "outputId": "232dd436-dd2b-4383-a7bd-1f61a67fa315"
      },
      "execution_count": 6,
      "outputs": [
        {
          "output_type": "stream",
          "name": "stdout",
          "text": [
            "<class 'pandas.core.frame.DataFrame'>\n",
            "RangeIndex: 359392 entries, 0 to 359391\n",
            "Data columns (total 7 columns):\n",
            " #   Column          Non-Null Count   Dtype  \n",
            "---  ------          --------------   -----  \n",
            " 0   Transaction ID  359392 non-null  int64  \n",
            " 1   Date of Travel  359392 non-null  int64  \n",
            " 2   Company         359392 non-null  object \n",
            " 3   City            359392 non-null  object \n",
            " 4   KM Travelled    359392 non-null  float64\n",
            " 5   Price Charged   359392 non-null  float64\n",
            " 6   Cost of Trip    359392 non-null  float64\n",
            "dtypes: float64(3), int64(2), object(2)\n",
            "memory usage: 19.2+ MB\n",
            "None\n",
            "<class 'pandas.core.frame.DataFrame'>\n",
            "RangeIndex: 20 entries, 0 to 19\n",
            "Data columns (total 3 columns):\n",
            " #   Column      Non-Null Count  Dtype \n",
            "---  ------      --------------  ----- \n",
            " 0   City        20 non-null     object\n",
            " 1   Population  20 non-null     object\n",
            " 2   Users       20 non-null     object\n",
            "dtypes: object(3)\n",
            "memory usage: 608.0+ bytes\n",
            "None\n",
            "<class 'pandas.core.frame.DataFrame'>\n",
            "RangeIndex: 49171 entries, 0 to 49170\n",
            "Data columns (total 4 columns):\n",
            " #   Column              Non-Null Count  Dtype \n",
            "---  ------              --------------  ----- \n",
            " 0   Customer ID         49171 non-null  int64 \n",
            " 1   Gender              49171 non-null  object\n",
            " 2   Age                 49171 non-null  int64 \n",
            " 3   Income (USD/Month)  49171 non-null  int64 \n",
            "dtypes: int64(3), object(1)\n",
            "memory usage: 1.5+ MB\n",
            "None\n",
            "<class 'pandas.core.frame.DataFrame'>\n",
            "RangeIndex: 440098 entries, 0 to 440097\n",
            "Data columns (total 3 columns):\n",
            " #   Column          Non-Null Count   Dtype \n",
            "---  ------          --------------   ----- \n",
            " 0   Transaction ID  440098 non-null  int64 \n",
            " 1   Customer ID     440098 non-null  int64 \n",
            " 2   Payment_Mode    440098 non-null  object\n",
            "dtypes: int64(2), object(1)\n",
            "memory usage: 10.1+ MB\n",
            "None\n",
            "Transaction ID    0\n",
            "Date of Travel    0\n",
            "Company           0\n",
            "City              0\n",
            "KM Travelled      0\n",
            "Price Charged     0\n",
            "Cost of Trip      0\n",
            "dtype: int64\n",
            "City          0\n",
            "Population    0\n",
            "Users         0\n",
            "dtype: int64\n",
            "Customer ID           0\n",
            "Gender                0\n",
            "Age                   0\n",
            "Income (USD/Month)    0\n",
            "dtype: int64\n",
            "Transaction ID    0\n",
            "Customer ID       0\n",
            "Payment_Mode      0\n",
            "dtype: int64\n"
          ]
        }
      ]
    },
    {
      "cell_type": "markdown",
      "source": [
        "## Step 4: Data Cleaning - Removing Duplicates and Handling Missing Values\n",
        "To ensure the data is clean and consistent, duplicates are removed from the relevant datasets. Missing values are then handled appropriately based on the type of data, with numeric values filled with 0 and categorical values filled with 'Unknown'.\n"
      ],
      "metadata": {
        "id": "l-uS0cp-CUB6"
      }
    },
    {
      "cell_type": "code",
      "source": [
        "# Remove duplicates\n",
        "cab_data.drop_duplicates(inplace=True)\n",
        "customer_data.drop_duplicates(inplace=True)\n",
        "transaction_data.drop_duplicates(inplace=True)\n",
        "\n",
        "# Fill missing values (adjust based on what you found)\n",
        "cab_data.fillna(0, inplace=True)\n",
        "customer_data.fillna('Unknown', inplace=True)\n"
      ],
      "metadata": {
        "id": "vvwdxZgv9Bf7"
      },
      "execution_count": 8,
      "outputs": []
    },
    {
      "cell_type": "markdown",
      "source": [
        "## Step 5: Merging Datasets\n",
        "The `cab_data`, `transaction_data`, and `customer_data` datasets are merged to create a comprehensive dataset. This allows access to all relevant information, such as cab ride details, customer demographics, and transaction information, in a single data structure. The merging is done using the common columns `Transaction ID` and `Customer ID`.\n"
      ],
      "metadata": {
        "id": "fJltqIm5CZCz"
      }
    },
    {
      "cell_type": "code",
      "source": [
        "# Merge datasets using the correct column names\n",
        "merged_data = pd.merge(cab_data, transaction_data, on='Transaction ID')\n",
        "merged_data = pd.merge(merged_data, customer_data, on='Customer ID')\n",
        "\n"
      ],
      "metadata": {
        "id": "sO7SVgG39Ezm"
      },
      "execution_count": 11,
      "outputs": []
    },
    {
      "cell_type": "markdown",
      "source": [
        "## Step 6: Counting the Number of Rides per Cab Company\n",
        "This step counts the total number of rides completed by each cab company. This provides an overview of the cab companies' relative activity levels, which is a key metric for comparing company performance.\n"
      ],
      "metadata": {
        "id": "FbGCCqLmCil7"
      }
    },
    {
      "cell_type": "code",
      "source": [
        "# Count the number of rides for each cab company\n",
        "cab_company_counts = merged_data['Company'].value_counts()\n",
        "print(cab_company_counts)"
      ],
      "metadata": {
        "colab": {
          "base_uri": "https://localhost:8080/"
        },
        "id": "kKkbgoZR9r9k",
        "outputId": "7be2d40a-a508-485d-e900-235df24c9f37"
      },
      "execution_count": 12,
      "outputs": [
        {
          "output_type": "stream",
          "name": "stdout",
          "text": [
            "Company\n",
            "Yellow Cab    274681\n",
            "Pink Cab       84711\n",
            "Name: count, dtype: int64\n"
          ]
        }
      ]
    },
    {
      "cell_type": "markdown",
      "source": [
        "## Step 7: Calculating the Average Fare per City\n",
        "This step calculates the average fare charged in each city. This helps in identifying cities with higher or lower average fares, which could be relevant for understanding regional demand and pricing strategies.\n"
      ],
      "metadata": {
        "id": "tSkYBIynCnAp"
      }
    },
    {
      "cell_type": "code",
      "source": [
        "# Calculate the average fare per city\n",
        "avg_fare_per_city = merged_data.groupby('City')['Price Charged'].mean()\n",
        "print(avg_fare_per_city)\n"
      ],
      "metadata": {
        "colab": {
          "base_uri": "https://localhost:8080/"
        },
        "id": "sAfAIrjY9x27",
        "outputId": "291a4f73-0f67-4198-d957-aff12d938b68"
      },
      "execution_count": 13,
      "outputs": [
        {
          "output_type": "stream",
          "name": "stdout",
          "text": [
            "City\n",
            "ATLANTA GA        394.368363\n",
            "AUSTIN TX         383.403288\n",
            "BOSTON MA         348.907296\n",
            "CHICAGO IL        350.398561\n",
            "DALLAS TX         447.830969\n",
            "DENVER CO         382.361179\n",
            "LOS ANGELES CA    370.487465\n",
            "MIAMI FL          399.773040\n",
            "NASHVILLE TN      318.640575\n",
            "NEW YORK NY       570.196342\n",
            "ORANGE COUNTY     390.475442\n",
            "PHOENIX AZ        366.609806\n",
            "PITTSBURGH PA     337.043899\n",
            "SACRAMENTO CA     321.762548\n",
            "SAN DIEGO CA      348.320021\n",
            "SEATTLE WA        356.923379\n",
            "SILICON VALLEY    432.457114\n",
            "TUCSON AZ         348.306712\n",
            "WASHINGTON DC     374.207281\n",
            "Name: Price Charged, dtype: float64\n"
          ]
        }
      ]
    },
    {
      "cell_type": "markdown",
      "source": [
        "## Step 8: Counting the Number of Rides per Payment Mode\n",
        "This step counts the total number of rides categorized by payment mode. Understanding payment preferences can provide insights into customer behavior and the infrastructure needs of the cab companies.\n"
      ],
      "metadata": {
        "id": "Qc4i-bOUC1l0"
      }
    },
    {
      "cell_type": "code",
      "source": [
        "# Count the number of rides per payment mode\n",
        "payment_mode_counts = merged_data['Payment_Mode'].value_counts()\n",
        "print(payment_mode_counts)\n"
      ],
      "metadata": {
        "colab": {
          "base_uri": "https://localhost:8080/"
        },
        "id": "fsO38XnY92cC",
        "outputId": "3db919a9-432a-4495-d74b-25db1446a5d9"
      },
      "execution_count": 14,
      "outputs": [
        {
          "output_type": "stream",
          "name": "stdout",
          "text": [
            "Payment_Mode\n",
            "Card    215504\n",
            "Cash    143888\n",
            "Name: count, dtype: int64\n"
          ]
        }
      ]
    },
    {
      "cell_type": "markdown",
      "source": [
        "## Step 9: Visualizing the Total Rides per Cab Company\n",
        "A bar plot is used to visualize the total number of rides completed by each cab company. This visualization helps to quickly compare the relative activity levels between the two companies.\n"
      ],
      "metadata": {
        "id": "mCGlRVTSC23M"
      }
    },
    {
      "cell_type": "code",
      "source": [
        "import matplotlib.pyplot as plt\n",
        "\n",
        "# Plot the number of rides per cab company\n",
        "cab_company_counts.plot(kind='bar')\n",
        "plt.title('Total Rides per Cab Company')\n",
        "plt.xlabel('Cab Company')\n",
        "plt.ylabel('Number of Rides')\n",
        "plt.show()\n"
      ],
      "metadata": {
        "colab": {
          "base_uri": "https://localhost:8080/",
          "height": 532
        },
        "id": "zyvPfoK9975H",
        "outputId": "f966e714-ef1c-440f-ad42-5e0d928461f1"
      },
      "execution_count": 15,
      "outputs": [
        {
          "output_type": "display_data",
          "data": {
            "text/plain": [
              "<Figure size 640x480 with 1 Axes>"
            ],
            "image/png": "[encoded data removed]"
          },
          "metadata": {}
        }
      ]
    },
    {
      "cell_type": "markdown",
      "source": [
        "## Step 10: Visualizing the Average Fare per City\n",
        "A bar plot is used to visualize the average fare charged in each city. This visualization helps to identify which cities have higher or lower average fares, providing insights into regional pricing and demand trends.\n"
      ],
      "metadata": {
        "id": "Bjs_umD3C-MU"
      }
    },
    {
      "cell_type": "code",
      "source": [
        "# Plot the average fare per city\n",
        "avg_fare_per_city.plot(kind='bar', figsize=(10,6))\n",
        "plt.title('Average Fare per City')\n",
        "plt.xlabel('City')\n",
        "plt.ylabel('Average Fare')\n",
        "plt.show()\n"
      ],
      "metadata": {
        "colab": {
          "base_uri": "https://localhost:8080/",
          "height": 672
        },
        "id": "kF1-mxmM9-St",
        "outputId": "80032964-4513-44a0-f8a1-15523c2be382"
      },
      "execution_count": 16,
      "outputs": [
        {
          "output_type": "display_data",
          "data": {
            "text/plain": [
              "<Figure size 1000x600 with 1 Axes>"
            ],
            "image/png": "[encoded data removed]"
          },
          "metadata": {}
        }
      ]
    },
    {
      "cell_type": "markdown",
      "source": [
        "## Step 11: Visualizing the Payment Mode Distribution\n",
        "A bar plot is used to visualize the distribution of payment modes across all rides. This visualization highlights the preferred payment methods among customers, which can inform decisions related to payment infrastructure.\n"
      ],
      "metadata": {
        "id": "YY0_blQkDLDk"
      }
    },
    {
      "cell_type": "code",
      "source": [
        "# Plot the payment mode distribution\n",
        "payment_mode_counts.plot(kind='bar')\n",
        "plt.title('Payment Mode Distribution')\n",
        "plt.xlabel('Payment Mode')\n",
        "plt.ylabel('Number of Rides')\n",
        "plt.show()\n"
      ],
      "metadata": {
        "colab": {
          "base_uri": "https://localhost:8080/",
          "height": 492
        },
        "id": "CM0BybvS-D5o",
        "outputId": "47bfc2ac-a770-4351-d362-2e4012950263"
      },
      "execution_count": 17,
      "outputs": [
        {
          "output_type": "display_data",
          "data": {
            "text/plain": [
              "<Figure size 640x480 with 1 Axes>"
            ],
            "image/png": "[encoded data removed]"
          },
          "metadata": {}
        }
      ]
    }
  ]
}